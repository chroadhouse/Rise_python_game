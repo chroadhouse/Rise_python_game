{
 "cells": [
  {
   "attachments": {},
   "cell_type": "markdown",
   "metadata": {},
   "source": [
    "# Intro to python for text-based adventure games\n",
    "This document can be used as a resource to help guide you in your journey to learning python. It will overlook some of the key parts of the python programming language, explaining why it is done that way and ways that it could be used with real coding examples inside. \n",
    "\n",
    "Throughout the notebook, there will be mentioned to the things we learn as we develop our knowledge and there will also be times when it will tell you to check out one of the python files, for you to run.\n",
    "\n",
    "Well, python is one of the most popular programming languages, thanks to it being easy to use and powerful, making it a great language to kickstart anybody’s aspirations of learning to code. It is also popular due to its versatility, since python can be used for all sorts of things from creating games like this course will show you, to developing Artificial Intelligence algorithms, to data analysis. \n"
   ]
  },
  {
   "cell_type": "code",
   "execution_count": 39,
   "metadata": {},
   "outputs": [],
   "source": [
    "# This is an example of a comment, which is a piece of text that is not run (not treated as code)\n",
    "# Programmers use these comments to be able to remind ourselves of things\n",
    "# Comments are a powerful tool as they allow us to write in the editor, without the words being processed as coed"
   ]
  },
  {
   "attachments": {},
   "cell_type": "markdown",
   "metadata": {},
   "source": [
    "## Variables\n",
    "A variable is a container that holds a value. In Python, you can create a variable by simply assigning a value to it. They are a crucial part of programming as they allow us to store data, whether this is input from the user or calculated from a algorithm. \n",
    "\n",
    "We assign a variblie this like:"
   ]
  },
  {
   "cell_type": "code",
   "execution_count": 40,
   "metadata": {},
   "outputs": [],
   "source": [
    "# Here we are assigning the variable name to the value Charlie\n",
    "name = 'Charlie'\n",
    "\n",
    "#Here we assign the age variable the value of 22\n",
    "age = 22"
   ]
  },
  {
   "attachments": {},
   "cell_type": "markdown",
   "metadata": {},
   "source": [
    "## Data Types\n",
    "Before moving on we need to understand what the different data types are: \n",
    "- String\n",
    "- Int\n",
    "- Float\n",
    "- Boolean"
   ]
  },
  {
   "cell_type": "code",
   "execution_count": 41,
   "metadata": {},
   "outputs": [],
   "source": [
    "# Example of String \n",
    "name = \"Charlie\"\n",
    "\n",
    "# Example of Int\n",
    "age = 22\n",
    "\n",
    "# Example of float\n",
    "averageTestScore = 0.7\n",
    "\n",
    "# Example of Boolean\n",
    "placement = True"
   ]
  },
  {
   "attachments": {},
   "cell_type": "markdown",
   "metadata": {},
   "source": [
    "Be careful when using strings specifically, they can be very complex and powerful in python and are very useful. Sometimes we might want to print out some text next to an integer, for this we need to 'cast' the data type which allows us to quickly convert a int to a string"
   ]
  },
  {
   "cell_type": "code",
   "execution_count": 5,
   "metadata": {},
   "outputs": [
    {
     "name": "stdout",
     "output_type": "stream",
     "text": [
      "5 multiplied by 5 is:25\n"
     ]
    }
   ],
   "source": [
    "# Will cause error\n",
    "print('5 multiplied by 5 is :'+5*5)\n",
    "\n",
    "#This will work \n",
    "print('5 multiplied by 5 is:'+str(5*5))"
   ]
  },
  {
   "attachments": {},
   "cell_type": "markdown",
   "metadata": {},
   "source": [
    "## Inputting and Outputting \n",
    "When creating command line programs, such as text-based adventure games, the only way that people can interact with you code is by reading the output and then typing a response, so we need to be able to take a users input and also return outputs"
   ]
  },
  {
   "cell_type": "code",
   "execution_count": 42,
   "metadata": {},
   "outputs": [
    {
     "name": "stdout",
     "output_type": "stream",
     "text": [
      "Hello World\n",
      "Hello Charlie\n"
     ]
    }
   ],
   "source": [
    "## For outputting code we use the print statement\n",
    "print('Hello World')\n",
    "\n",
    "# For inputting data we use the input keyword and set it to a variable \n",
    "userInput = input('Please input your name:')\n",
    "\n",
    "print('Hello '+userInput)"
   ]
  },
  {
   "attachments": {},
   "cell_type": "markdown",
   "metadata": {},
   "source": [
    "## Control Flow\n",
    "One of the most importatnt thing you can do with code is change what the user would see depending on a certain condition. An If statement allows you to test a condition and then execute code based on whether or not the condition is True or False. \n",
    "\n",
    "In addition to the basic if statement, python also provides elif and else statements to test multiple conditions. \n",
    "\n",
    "The elif statement is short of 'else if' and allows you to test additional conditions if the previous condition is false. The else is a catch all statement which is always at the end of a block and will be executed if all the other conditions will fail."
   ]
  },
  {
   "cell_type": "code",
   "execution_count": 43,
   "metadata": {},
   "outputs": [
    {
     "name": "stdout",
     "output_type": "stream",
     "text": [
      "You got a First in the unit\n"
     ]
    }
   ],
   "source": [
    "## This is an example of an if block \n",
    "\n",
    "grade_percentage = 0.75\n",
    "\n",
    "if grade_percentage > 0.7:\n",
    "    print('You got a First in the unit')\n",
    "elif grade_percentage > 0.6:\n",
    "    print('You got a \"2:1 in the unit')\n",
    "elif grade_percentage > 0.5:\n",
    "    print('You got a 2:2 in the unit')\n",
    "elif grade_percentage > 0.4:\n",
    "    print('You passed the unit')\n",
    "else:\n",
    "    print('You failed the unit')\n"
   ]
  },
  {
   "attachments": {},
   "cell_type": "markdown",
   "metadata": {},
   "source": [
    "## Control Logic \n",
    "Python also provides logical operators such as not, or and and, which allow us to combine conditions together and allow us to make much more complex control statements. \n",
    "- The NOT operator makes the inverse of whatever is given, e.g. True turns to False\n",
    "- The AND operator executes the condition if both conditions are True \n",
    "- The OR operator executes the conditon if one of the given conditions is True"
   ]
  },
  {
   "cell_type": "code",
   "execution_count": 44,
   "metadata": {},
   "outputs": [
    {
     "name": "stdout",
     "output_type": "stream",
     "text": [
      "Both x and y are positive\n",
      "One or both of X and Y are positive\n",
      "It is not raining\n"
     ]
    }
   ],
   "source": [
    "# Example of AND keyword \n",
    "x = 5\n",
    "y = 10\n",
    "if x > 0 and y > 0:\n",
    "    print('Both x and y are positive')\n",
    "\n",
    "# Example of OR keyword \n",
    "x = 5\n",
    "y = 10\n",
    "if x > 0 or y > 10:\n",
    "    print('One or both of X and Y are positive')\n",
    "\n",
    "\n",
    "# example of Not keyword \n",
    "is_raining = False\n",
    "if not is_raining:\n",
    "    print('It is not raining')\n",
    "else:\n",
    "    print('It is raining')"
   ]
  },
  {
   "attachments": {},
   "cell_type": "markdown",
   "metadata": {},
   "source": [
    "## List\n",
    "In python we can store multiple items of data in a list (sometimes called array). Lists are ordered collectiosn of elements that can be of any data type. You create a list by placing a sequence of data seperated by commas inside square brakets. \n",
    "\n",
    "You can access elements of a list using indexing. Indexing in python starts with 0, so thje first element of the list is index 0. "
   ]
  },
  {
   "cell_type": "code",
   "execution_count": 45,
   "metadata": {},
   "outputs": [
    {
     "name": "stdout",
     "output_type": "stream",
     "text": [
      "[1, 2, 3, 4, 5, 6, 7, 8, 9]\n",
      "First element is : 1\n",
      "Second element is : 2\n"
     ]
    }
   ],
   "source": [
    "# Declare an empty list\n",
    "empty_list = []\n",
    "# Declare an empty list with a specific size \n",
    "my_list = [10]\n",
    "# Declare and set a list \n",
    "number_list = [1,2,3,4,5,6,7,8,9]\n",
    "# Show \n",
    "first_element = number_list[0]\n",
    "second_element = number_list[1]\n",
    "\n",
    "print(number_list)\n",
    "print('First element is : '+str(first_element))\n",
    "print('Second element is : '+str(second_element))"
   ]
  },
  {
   "attachments": {},
   "cell_type": "markdown",
   "metadata": {},
   "source": [
    "## Loops \n",
    "Python can use loops to repeatedly execute a block of code. There are two types of loops in Python: \n",
    "- For loops \n",
    "- Whie loops"
   ]
  },
  {
   "attachments": {},
   "cell_type": "markdown",
   "metadata": {},
   "source": [
    "### For Loops \n",
    "A for loop is used to iterate a sequence (like a string or list). There are two main types of for loop, for loops using indexs and then for each loops \n",
    "\n",
    "#### For Each Loop:\n",
    "Each iteration of the loop is stored in a variable, which takes on the value of the next element in the sequence, and the code inside is executed \n",
    "\n",
    "#### For loop with range\n",
    "The range keyword "
   ]
  },
  {
   "cell_type": "code",
   "execution_count": 2,
   "metadata": {},
   "outputs": [
    {
     "name": "stdout",
     "output_type": "stream",
     "text": [
      "This is looping without range1\n",
      "This is looping without range2\n",
      "This is looping without range3\n",
      "This is looping without range4\n",
      "This is looping without range5\n",
      "This is looping without range6\n",
      "This is looping without range7\n",
      "This is looping without range8\n",
      "This is looping without range9\n",
      "1\n",
      "2\n",
      "3\n",
      "4\n",
      "5\n",
      "6\n",
      "7\n",
      "8\n",
      "9\n"
     ]
    }
   ],
   "source": [
    "number_list = [1,2,3,4,5,6,7,8,9]\n",
    "\n",
    "# For loop \n",
    "for n in number_list:\n",
    "    print('This is looping without range' + str(n))\n",
    "\n",
    "# For loop with range \n",
    "for i in range(0,len(number_list)):\n",
    "    print(number_list[i])"
   ]
  },
  {
   "attachments": {},
   "cell_type": "markdown",
   "metadata": {},
   "source": [
    "### While loops\n",
    "A while loop repeatdely executes a block of code as long as a certain condition is True. each iteration of the loop, the condition is checked. If it is true, the code inside the loop is executed, if false then the loop stops. "
   ]
  },
  {
   "cell_type": "code",
   "execution_count": 47,
   "metadata": {},
   "outputs": [
    {
     "name": "stdout",
     "output_type": "stream",
     "text": [
      "Hello Charlie\n"
     ]
    }
   ],
   "source": [
    "# Example of a while loop to take a persons name\n",
    "name = ''\n",
    "nameNotFound = True\n",
    "\n",
    "while nameNotFound:\n",
    "    userInput = input('Please input your name:')\n",
    "    if len(userInput) > 0:\n",
    "        nameNotFound = False\n",
    "        name = userInput\n",
    "print('Hello '+name)"
   ]
  },
  {
   "attachments": {},
   "cell_type": "markdown",
   "metadata": {},
   "source": [
    "## Dictionaries\n",
    "A dictionary in python is a collection of {key:value} pairs. Each key must be unique and can be different data types such as string or int. The values can be any data type and don't have to be unique. \n"
   ]
  },
  {
   "cell_type": "code",
   "execution_count": 48,
   "metadata": {},
   "outputs": [
    {
     "name": "stdout",
     "output_type": "stream",
     "text": [
      "John is 30 years old.\n",
      "name: John\n",
      "age: 30\n",
      "address: 456 Elm St\n",
      "phone: 555-1234\n"
     ]
    }
   ],
   "source": [
    "person = {\n",
    "    'name': 'John',\n",
    "    'age': 30,\n",
    "    'gender': 'male',\n",
    "    'address': '123 Main St'\n",
    "}\n",
    "\n",
    "# Accessing information\n",
    "name = person['name']\n",
    "age = person['age']\n",
    "\n",
    "print(f\"{name} is {age} years old.\")\n",
    "\n",
    "# Updating information\n",
    "person['address'] = '456 Elm St'\n",
    "\n",
    "# Adding new information\n",
    "person['phone'] = '555-1234'\n",
    "\n",
    "# Removing information\n",
    "del person['gender']\n",
    "\n",
    "# Iterating over the dictionary\n",
    "for key, value in person.items():\n",
    "    print(f\"{key}: {value}\")"
   ]
  },
  {
   "attachments": {},
   "cell_type": "markdown",
   "metadata": {},
   "source": [
    "## Methods\n",
    "In python a function (method) is a block of code that performs a specific task and can be reused in the program. Functions can take parameters as input and return a value as output. \n",
    "\n",
    "We define a method using the def keyword, followed by the name of the method and then (). If we want parameters inside this we place the parameter names inside this variable"
   ]
  },
  {
   "cell_type": "code",
   "execution_count": 49,
   "metadata": {},
   "outputs": [
    {
     "name": "stdout",
     "output_type": "stream",
     "text": [
      "The result of 3+4 is: 7\n"
     ]
    }
   ],
   "source": [
    "# def is the keyword to create a method\n",
    "# x and y are the parameters that are passed into the method \n",
    "\n",
    "def add(x,y):\n",
    "    return x+y\n",
    "\n",
    "result = add(3,4)\n",
    "print('The result of 3+4 is: '+str(result))"
   ]
  },
  {
   "attachments": {},
   "cell_type": "markdown",
   "metadata": {},
   "source": [
    "# Useful ideas for creating a game\n",
    "Now we have the basics of python we can move onto using these tools to help us making our game. Below are some coded examples and explanations of how you could approach different things within your game. "
   ]
  },
  {
   "attachments": {},
   "cell_type": "markdown",
   "metadata": {},
   "source": [
    "## Presence Check\n",
    "When taking input from a user we need to be able to validate the users input to make sure that the input is correct so it won't break the code. One of the main checks we can do for this is the Presence Check. The Presence check, checks that the user has input anything in the first place. "
   ]
  },
  {
   "cell_type": "code",
   "execution_count": 6,
   "metadata": {},
   "outputs": [],
   "source": [
    "# This method is going to return True or False\n",
    "def isPresent(user_input):\n",
    "    if user_input == '':\n",
    "        return False\n",
    "    else:\n",
    "        return True"
   ]
  },
  {
   "cell_type": "code",
   "execution_count": null,
   "metadata": {},
   "outputs": [],
   "source": [
    "# Menu runs inside the while loop\n",
    "while True:\n",
    "    print('Here is a Menu Title')\n",
    "    print('1. Option One')\n",
    "    print('2. Option Two')\n",
    "    print('3. Option Three')\n",
    "    print('4. Exit Menu')\n",
    "\n",
    "    #Put the input here  \n",
    "    user_input = input('Please enter the number option you want: ')\n",
    "\n",
    "    if isPresent(user_input):\n",
    "        #The user has entered something so it passes the check\n",
    "        if user_input == '1':\n",
    "            print('You have chosen Option One')\n",
    "            #You could call a method here\n",
    "        elif user_input == '2':\n",
    "            print('You have chosen Option Two')\n",
    "            #You could call a method here - maybe send a user to a room ?\n",
    "        elif user_input =='3':\n",
    "            print('You have chosen option Three')\n",
    "        elif user_input =='4':\n",
    "            #Using the break will get out the loop and will terminate the loop, ending the code\n",
    "            print('Goodbye')\n",
    "            break\n",
    "        else:\n",
    "            #Use this as a catch all if the user didn't input one of the options\n",
    "            print('You have not entered one of the options')\n",
    "    else:\n",
    "        print('**********')\n",
    "        print('You need to input something')\n",
    "        print('**********')"
   ]
  },
  {
   "attachments": {},
   "cell_type": "markdown",
   "metadata": {},
   "source": [
    "## Inventories "
   ]
  },
  {
   "cell_type": "code",
   "execution_count": null,
   "metadata": {},
   "outputs": [],
   "source": []
  }
 ],
 "metadata": {
  "kernelspec": {
   "display_name": "Python 3",
   "language": "python",
   "name": "python3"
  },
  "language_info": {
   "codemirror_mode": {
    "name": "ipython",
    "version": 3
   },
   "file_extension": ".py",
   "mimetype": "text/x-python",
   "name": "python",
   "nbconvert_exporter": "python",
   "pygments_lexer": "ipython3",
   "version": "3.10.10"
  },
  "orig_nbformat": 4
 },
 "nbformat": 4,
 "nbformat_minor": 2
}
