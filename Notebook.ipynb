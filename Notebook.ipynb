{
 "cells": [
  {
   "attachments": {},
   "cell_type": "markdown",
   "metadata": {},
   "source": [
    "# Intro to python for text-based adventure games\n",
    "This document can be used as a resource to help guide you in your journey to learning python. It will overlook some of the key parts of the python programming language, explaining why it is done that way and ways that it could be used with real coding examples inside. \n",
    "\n",
    "Throughout the notebook, there will be mentioned to the things we learn as we develop our knowledge and there will also be times when it will tell you to check out one of the python files, for you to run.\n",
    "\n",
    "Well, python is one of the most popular programming languages, thanks to it being easy to use and powerful, making it a great language to kickstart anybody’s aspirations of learning to code. It is also popular due to its versatility, since python can be used for all sorts of things from creating games like this course will show you, to developing Artificial Intelligence algorithms, to data analysis. \n"
   ]
  },
  {
   "cell_type": "code",
   "execution_count": null,
   "metadata": {},
   "outputs": [],
   "source": [
    "# This is an example of a comment, which is a piece of text that is not run (not treated as code)\n",
    "# Programmers use these comments to be able to remind ourselves of things\n",
    "# Comments are a powerful tool as they allow us to write in the editor, without the words being processed as coed"
   ]
  },
  {
   "attachments": {},
   "cell_type": "markdown",
   "metadata": {},
   "source": [
    "## Variables\n",
    "A variable is a container that holds a value. In Python, you can create a variable by simply assigning a value to it. They are a crucial part of programming as they allow us to store data, whether this is input from the user or calculated from a algorithm. \n",
    "\n",
    "We assign a variblie this like:"
   ]
  },
  {
   "cell_type": "code",
   "execution_count": null,
   "metadata": {},
   "outputs": [],
   "source": [
    "# Here we are assigning the variable name to the value Charlie\n",
    "name = 'Charlie'\n",
    "\n",
    "#Here we assign the age variable the value of 22\n",
    "age = 22"
   ]
  },
  {
   "attachments": {},
   "cell_type": "markdown",
   "metadata": {},
   "source": [
    "## Data Types\n",
    "Before moving on we need to understand what the different data types are: \n",
    "- String\n",
    "- Int\n",
    "- Float\n",
    "- Boolean"
   ]
  },
  {
   "cell_type": "code",
   "execution_count": null,
   "metadata": {},
   "outputs": [],
   "source": [
    "# Example of String \n",
    "name = \"Charlie\"\n",
    "\n",
    "# Example of Int\n",
    "age = 22\n",
    "\n",
    "# Example of float\n",
    "averageTestScore = 0.7\n",
    "\n",
    "# Example of Boolean\n",
    "placement = True"
   ]
  },
  {
   "attachments": {},
   "cell_type": "markdown",
   "metadata": {},
   "source": [
    "## Inputting and Outputting "
   ]
  },
  {
   "attachments": {},
   "cell_type": "markdown",
   "metadata": {},
   "source": [
    "## Arrays"
   ]
  },
  {
   "attachments": {},
   "cell_type": "markdown",
   "metadata": {},
   "source": [
    "## Dictionaries"
   ]
  },
  {
   "attachments": {},
   "cell_type": "markdown",
   "metadata": {},
   "source": [
    "## Control Flow"
   ]
  },
  {
   "attachments": {},
   "cell_type": "markdown",
   "metadata": {},
   "source": [
    "## Loops"
   ]
  },
  {
   "attachments": {},
   "cell_type": "markdown",
   "metadata": {},
   "source": [
    "## Methods"
   ]
  }
 ],
 "metadata": {
  "kernelspec": {
   "display_name": "Python 3",
   "language": "python",
   "name": "python3"
  },
  "language_info": {
   "codemirror_mode": {
    "name": "ipython",
    "version": 3
   },
   "file_extension": ".py",
   "mimetype": "text/x-python",
   "name": "python",
   "nbconvert_exporter": "python",
   "pygments_lexer": "ipython3",
   "version": "3.10.10"
  },
  "orig_nbformat": 4
 },
 "nbformat": 4,
 "nbformat_minor": 2
}
